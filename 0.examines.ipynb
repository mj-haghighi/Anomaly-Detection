{
 "cells": [
  {
   "cell_type": "markdown",
   "metadata": {},
   "source": [
    "# Import Dependencies"
   ]
  },
  {
   "cell_type": "code",
   "execution_count": 15,
   "metadata": {},
   "outputs": [],
   "source": [
    "import pandas as pd\n",
    "import os.path as osp\n",
    "import os\n",
    "from configs.general import \\\n",
    "                    MODELS, DATASETS, OPTIMS,\\\n",
    "                    INITIALIZATIONS, LR_SCHEDULERS, NPS, NSS,\\\n",
    "                    PHASES, EPOCHS, FOLDS, DEVICE,\\\n",
    "                    DATA_FILTERING_POLICIES, DATA_RETRIEVAL_POLICIES, \\\n",
    "                    EXPERIMENT_COLS, EXPERIMENT_BASE_DIR, EXPERIMENT_INFO_PATH,\\\n",
    "                    FILTERING_EXPERIMENT_INFO_PATH, FILTERING_EXPERIMENT_BASE_DIR, FILTERING_EXPERIMENT_COLS\n",
    "                    "
   ]
  },
  {
   "cell_type": "markdown",
   "metadata": {},
   "source": [
    "# Update experiments status"
   ]
  },
  {
   "cell_type": "code",
   "execution_count": 13,
   "metadata": {},
   "outputs": [
    {
     "name": "stdout",
     "output_type": "stream",
     "text": [
      "total experiments: 468\n",
      "already done: 76\n",
      "required to update: 0\n"
     ]
    }
   ],
   "source": [
    "old_experiments = pd.read_csv(EXPERIMENT_INFO_PATH, index_col='index')\n",
    "experiments = old_experiments.copy()\n",
    "for index, row in experiments.iterrows():\n",
    "    examin_dir = osp.join(EXPERIMENT_BASE_DIR, *[str(row[col]) for col in EXPERIMENT_COLS])\n",
    "    if osp.isdir(examin_dir):\n",
    "        number_of_folds = len(os.listdir(examin_dir))\n",
    "        if number_of_folds == FOLDS:\n",
    "            experiments.loc[index, 'done'] = True\n",
    "\n",
    "print(\"total experiments:\", len(old_experiments))\n",
    "print(\"already done:\", (old_experiments['done'] == True).sum())\n",
    "print(\"required to update:\", (experiments['done'] == True).sum() -(old_experiments['done'] == True).sum())\n"
   ]
  },
  {
   "cell_type": "code",
   "execution_count": null,
   "metadata": {},
   "outputs": [],
   "source": [
    "experiments.to_csv(EXPERIMENT_INFO_PATH)"
   ]
  },
  {
   "cell_type": "markdown",
   "metadata": {},
   "source": [
    "# Update filtering experiments status"
   ]
  },
  {
   "cell_type": "code",
   "execution_count": 16,
   "metadata": {},
   "outputs": [
    {
     "name": "stdout",
     "output_type": "stream",
     "text": [
      "total experiments: 183\n",
      "already done: 12\n",
      "required to update: 0\n"
     ]
    }
   ],
   "source": [
    "old_experiments = pd.read_csv(FILTERING_EXPERIMENT_INFO_PATH, index_col='index')\n",
    "experiments = old_experiments.copy()\n",
    "for index, row in experiments.iterrows():\n",
    "    examin_dir = osp.join(FILTERING_EXPERIMENT_BASE_DIR, *[str(row[col]) for col in FILTERING_EXPERIMENT_COLS])\n",
    "    if osp.isdir(examin_dir):\n",
    "        number_of_folds = len(os.listdir(examin_dir))\n",
    "        if number_of_folds == FOLDS:\n",
    "            experiments.loc[index, 'done'] = True\n",
    "\n",
    "print(\"total experiments:\", len(old_experiments))\n",
    "print(\"already done:\", (old_experiments['done'] == True).sum())\n",
    "print(\"required to update:\", (experiments['done'] == True).sum() -(old_experiments['done'] == True).sum())\n"
   ]
  },
  {
   "cell_type": "code",
   "execution_count": null,
   "metadata": {},
   "outputs": [],
   "source": [
    "experiments.to_csv(FILTERING_EXPERIMENT_INFO_PATH)"
   ]
  }
 ],
 "metadata": {
  "kernelspec": {
   "display_name": "torch",
   "language": "python",
   "name": "python3"
  },
  "language_info": {
   "codemirror_mode": {
    "name": "ipython",
    "version": 3
   },
   "file_extension": ".py",
   "mimetype": "text/x-python",
   "name": "python",
   "nbconvert_exporter": "python",
   "pygments_lexer": "ipython3",
   "version": "3.10.12"
  },
  "orig_nbformat": 4
 },
 "nbformat": 4,
 "nbformat_minor": 2
}
