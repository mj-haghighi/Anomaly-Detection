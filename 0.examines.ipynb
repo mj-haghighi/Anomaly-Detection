{
 "cells": [
  {
   "cell_type": "markdown",
   "metadata": {},
   "source": [
    "## Import Dependencies"
   ]
  },
  {
   "cell_type": "code",
   "execution_count": 3,
   "metadata": {},
   "outputs": [],
   "source": [
    "import pandas as pd\n",
    "import os.path as osp\n",
    "import os"
   ]
  },
  {
   "cell_type": "markdown",
   "metadata": {},
   "source": [
    "## Generate all examines"
   ]
  },
  {
   "cell_type": "code",
   "execution_count": 6,
   "metadata": {},
   "outputs": [],
   "source": [
    "all_models = [\"resnet18\", \"resnet34\", \"xception\"]\n",
    "all_datasets = ['cifar10']\n",
    "all_optim = [('adam', \"0.001\"), ('sgd', \"0.1\")]\n",
    "all_initialization = ['pretrain', 'kaiming_normal']\n",
    "all_lr_scheduler = ['reduceLR', 'none', 'cosine_annealingLR']\n",
    "all_noise_injection = [\"0.0\", \"0.03\", \"0.07\", \"0.13\"]\n",
    "all_noise_sparsity = [\"0.0\", \"0.2\", \"0.4\", \"0.6\"]\n",
    "all_lr_rate = ['0.001', '0.1']\n",
    "all_phase = ['train', 'validation']\n",
    "all_epochs = 15\n",
    "all_folds = 3\n",
    "device = 'cuda:0'"
   ]
  },
  {
   "cell_type": "code",
   "execution_count": 3,
   "metadata": {},
   "outputs": [],
   "source": [
    "def generate_all_examins():\n",
    "    df = pd.DataFrame()\n",
    "    for dataset in all_datasets:\n",
    "        for model in all_models:\n",
    "            for optim, lr in all_optim:\n",
    "                for initialization in all_initialization:\n",
    "                    for lr_scheduler in all_lr_scheduler:\n",
    "                        for noise_injection in all_noise_injection:\n",
    "                            for noise_sparsity in all_noise_sparsity:\n",
    "                                if noise_injection == \"0.0\" and noise_sparsity !=\"0.0\":\n",
    "                                    continue\n",
    "                                df = df._append({\n",
    "                                    \"dataset\": dataset, \"model\": model,\n",
    "                                    \"optim\": optim, \n",
    "                                    \"init\": initialization, \"lr_scheduler\": lr_scheduler,\n",
    "                                    \"np\": f\"np={noise_injection}\", \"ns\": f\"ns={noise_sparsity}\", \"lr\": f\"lr={lr}\",\n",
    "                                    \"folds\": all_folds, \"epochs\": all_epochs,\n",
    "                                    \"done\": False\n",
    "                                    }, ignore_index=True)\n",
    "    return df"
   ]
  },
  {
   "cell_type": "code",
   "execution_count": null,
   "metadata": {},
   "outputs": [],
   "source": [
    "# df = generate_all_examins()\n",
    "# df.to_csv(\"logs/examines.csv\", index_label=\"index\")"
   ]
  },
  {
   "cell_type": "markdown",
   "metadata": {},
   "source": [
    "## Update examines status"
   ]
  },
  {
   "cell_type": "code",
   "execution_count": 7,
   "metadata": {},
   "outputs": [],
   "source": [
    "base_path = \"/home/vision/Repo/cleanset/logs\"\n",
    "def check_wich_examines_done(path=\"logs/examines.csv\"):\n",
    "    df = pd.read_csv(path, index_col='index')\n",
    "    cols = [ \"dataset\", \"model\", \"optim\", \"init\", \"lr_scheduler\", \"np\", \"ns\", \"lr\" ]\n",
    "    for index, row in df.iterrows():\n",
    "        examin_dir = osp.join(base_path, *[str(row[col]) for col in cols])\n",
    "        if osp.isdir(examin_dir):\n",
    "            number_of_folds = len(os.listdir(examin_dir))\n",
    "            if number_of_folds == all_folds:\n",
    "                df.loc[index, 'done'] = True\n",
    "    return df\n"
   ]
  },
  {
   "cell_type": "code",
   "execution_count": 8,
   "metadata": {},
   "outputs": [
    {
     "name": "stdout",
     "output_type": "stream",
     "text": [
      "Done:  52\n",
      "Remained:  0\n"
     ]
    }
   ],
   "source": [
    "df = check_wich_examines_done()\n",
    "print(\"Done: \", len(df[(df['done'] == True) & (df['model'] == 'xception') & (df['lr_scheduler'] == 'reduceLR')]))\n",
    "print(\"Remained: \", len(df[(df['done'] == False) & (df['model'] == 'xception') & (df['lr_scheduler'] == 'reduceLR')]))"
   ]
  },
  {
   "cell_type": "code",
   "execution_count": 9,
   "metadata": {},
   "outputs": [],
   "source": [
    "df.to_csv(\"logs/examines.csv\", index_label=\"index\")"
   ]
  }
 ],
 "metadata": {
  "kernelspec": {
   "display_name": "torch",
   "language": "python",
   "name": "python3"
  },
  "language_info": {
   "codemirror_mode": {
    "name": "ipython",
    "version": 3
   },
   "file_extension": ".py",
   "mimetype": "text/x-python",
   "name": "python",
   "nbconvert_exporter": "python",
   "pygments_lexer": "ipython3",
   "version": "3.10.12"
  },
  "orig_nbformat": 4
 },
 "nbformat": 4,
 "nbformat_minor": 2
}
