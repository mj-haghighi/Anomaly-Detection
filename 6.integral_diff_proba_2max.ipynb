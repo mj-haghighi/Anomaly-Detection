{
 "cells": [
  {
   "cell_type": "code",
   "execution_count": 1,
   "metadata": {},
   "outputs": [],
   "source": [
    "import pandas as pd\n",
    "import numpy as np\n",
    "import matplotlib.pyplot as plt\n",
    "import os.path as osp\n",
    "import glob\n",
    "import os.path as osp\n",
    "from sklearn.metrics import roc_auc_score\n",
    "from sklearn.preprocessing import MinMaxScaler"
   ]
  },
  {
   "cell_type": "markdown",
   "metadata": {},
   "source": [
    "## Utils"
   ]
  },
  {
   "cell_type": "code",
   "execution_count": 11,
   "metadata": {},
   "outputs": [],
   "source": [
    "\n",
    "import matplotlib.pyplot as plt\n",
    "import seaborn as sns\n",
    "\n",
    "# Function to find the difference between the two maximum values in an array\n",
    "def diff_two_max(prob_array):\n",
    "    sorted_probs = sorted(prob_array, reverse=True)\n",
    "    return sorted_probs[0] - sorted_probs[1] if len(sorted_probs) >= 2 else np.nan\n",
    "\n",
    "\n",
    "def plot_density(path=\"img.png\", dataframes=[], target_col=None, colors=[], labels=[], title=\"\"):\n",
    "    plt.figure()  # Create a new figure for each plot\n",
    "    sns.set_theme(style=\"darkgrid\")\n",
    "    for i, df in enumerate(dataframes):\n",
    "        sns.kdeplot(df[target_col], fill=True, color=colors[i], label=labels[i])\n",
    "    plt.legend()\n",
    "    plt.title(title)\n",
    "    xlable = target_col[0].capitalize() + target_col[1:]\n",
    "    plt.xlabel(xlable.replace('_', ' '))  # Set x-label here\n",
    "    plt.savefig(path)\n",
    "    # plt.show()\n",
    "    plt.close()"
   ]
  },
  {
   "cell_type": "markdown",
   "metadata": {},
   "source": [
    "## Code"
   ]
  },
  {
   "cell_type": "markdown",
   "metadata": {},
   "source": [
    "### Options"
   ]
  },
  {
   "cell_type": "code",
   "execution_count": 12,
   "metadata": {},
   "outputs": [],
   "source": [
    "all_models=[\"resnet18\", \"resnet34\", \"xception\"]\n",
    "all_datasets=['cifar10']\n",
    "all_optim = ['adam', 'sgd', 'rmsprobe', 'sparseadam']\n",
    "all_initialization = ['pretrain', 'kaiming_normal']\n",
    "all_lr_scheduler = ['reduceLR', 'none', 'cosine_annealingLR']\n",
    "all_noise_injection = [\"0.0\", \"0.03\", \"0.07\", \"0.13\"]\n",
    "all_noise_sparsity = [\"0.0\", \"0.2\", \"0.4\", \"0.6\"]\n",
    "all_lr_rate = ['0.001', '0.1']\n",
    "all_folds = ['0', '1', '2']\n",
    "all_phase = ['train', 'validation']\n",
    "all_epochs = 5\n",
    "device = 'cuda:0'"
   ]
  },
  {
   "cell_type": "code",
   "execution_count": 13,
   "metadata": {},
   "outputs": [],
   "source": [
    "scaler = MinMaxScaler()"
   ]
  },
  {
   "cell_type": "markdown",
   "metadata": {},
   "source": [
    "### Calculate Metrics"
   ]
  },
  {
   "cell_type": "code",
   "execution_count": 14,
   "metadata": {},
   "outputs": [],
   "source": [
    "root = osp.join(\"/home/vision/Repo/cleanset/logs\")\n",
    "\n",
    "iterations_log = None\n",
    "metrics_info = pd.DataFrame()\n",
    "for dataset_name in all_datasets:\n",
    "    metrics_info_path = f'/home/vision/Repo/cleanset/dataset/{dataset_name}/metrics/integral_diff_proba_2max.csv'\n",
    "    dataset_info = pd.read_csv(f\"dataset/{dataset_name}/info.csv\")\n",
    "    dataset_info[dataset_info['phase'] == 'train']\n",
    "    for model_name in all_models:\n",
    "        for optim in all_optim:\n",
    "            for initialization in all_initialization:\n",
    "                for lr_scheduler in all_lr_scheduler:\n",
    "                    for noise_injection in all_noise_injection[1:]:\n",
    "                        for noise_sparsity in all_noise_sparsity:\n",
    "                            for lr_rate in all_lr_rate:\n",
    "                                for phase in all_phase:\n",
    "                                    samples_training_data = pd.DataFrame()\n",
    "                                    for epoch in range(1, all_epochs):\n",
    "                                        all_fold_loss = []\n",
    "                                        epoch = f\"{epoch :03d}\"\n",
    "                                        for fold in all_folds:\n",
    "                                            glob_regex = osp.join(root, dataset_name, model_name, optim, initialization, lr_scheduler, f\"np={noise_injection}\", f\"ns={noise_sparsity}\", f\"lr={lr_rate}\", fold, phase, epoch, '*.pd')\n",
    "                                            iterations_log = sorted(glob.glob(glob_regex))\n",
    "                                            if len(iterations_log) == 0:\n",
    "                                                continue\n",
    "                                            iterations_log = [pd.read_pickle(file_path) for file_path in iterations_log]\n",
    "                                            iterations_log = pd.concat(iterations_log, axis=0, ignore_index=True)\n",
    "\n",
    "                                            iterations_log = iterations_log.drop(columns=['loss'])\n",
    "                                            iterations_log['diff_2max_proba_integral'] = iterations_log['proba'].apply(lambda x: diff_two_max(x))\n",
    "                                            iterations_log = iterations_log.drop(columns=['proba'])\n",
    "\n",
    "                                            iterations_log['fold'] = fold\n",
    "                                            iterations_log['epoch'] = epoch\n",
    "                                            samples_training_data = samples_training_data._append(iterations_log)\n",
    "                                    if len(samples_training_data):\n",
    "                                        proba_integral = samples_training_data.groupby(['sample', 'label'])['diff_2max_proba_integral'].sum().reset_index()\n",
    "                                        merged_df = pd.merge(proba_integral, dataset_info[['index', 'true_label']], left_on='sample', right_on='index', how='inner')\n",
    "\n",
    "                                        # auc calculation\n",
    "                                        auc_score = roc_auc_score(y_true = merged_df['true_label'] == merged_df['label'], y_score = merged_df['diff_2max_proba_integral'])\n",
    "                                        new_row = {'model': model_name, 'optim': optim, 'initialization': initialization, 'lr scheduler': lr_scheduler, 'np': noise_injection, 'ns': noise_sparsity, 'lr rate': lr_rate, 'phase': phase, 'auc score': auc_score}\n",
    "                                        metrics_info = metrics_info._append(new_row, ignore_index=True)\n",
    "                                        # end auc calculation\n",
    "\n",
    "                                        # plot density\n",
    "                                        true_label_sample_proba_integral = merged_df[merged_df['label'] == merged_df['true_label']]\n",
    "                                        wrong_label_sample_proba_integral = merged_df[merged_df['label'] != merged_df['true_label']]\n",
    "\n",
    "\n",
    "                                        plot_density(\n",
    "                                            path=osp.join(root, dataset_name, model_name, optim, initialization, lr_scheduler, f\"np={noise_injection}\", f\"ns={noise_sparsity}\", f\"lr={lr_rate}\", f\"{phase}_proba_2max_integral.png\"),\n",
    "                                            dataframes=[true_label_sample_proba_integral, wrong_label_sample_proba_integral],\n",
    "                                            target_col='diff_2max_proba_integral', colors=['g', 'r'],\n",
    "                                            labels=['true labels', 'wrong labels'],\n",
    "                                            title=f\" {dataset_name} {model_name} {optim} {initialization} {lr_scheduler} {phase} | np={noise_injection} ns={noise_sparsity}\")\n",
    "                                        # end plot density\n",
    "\n",
    "    # save auc score\n",
    "    metrics_info.index.name = 'index'\n",
    "    metrics_info.to_csv(metrics_info_path)"
   ]
  }
 ],
 "metadata": {
  "kernelspec": {
   "display_name": "torch",
   "language": "python",
   "name": "python3"
  },
  "language_info": {
   "codemirror_mode": {
    "name": "ipython",
    "version": 3
   },
   "file_extension": ".py",
   "mimetype": "text/x-python",
   "name": "python",
   "nbconvert_exporter": "python",
   "pygments_lexer": "ipython3",
   "version": "3.10.12"
  },
  "orig_nbformat": 4
 },
 "nbformat": 4,
 "nbformat_minor": 2
}
