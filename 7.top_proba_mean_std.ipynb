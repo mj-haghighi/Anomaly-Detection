{
 "cells": [
  {
   "cell_type": "code",
   "execution_count": 4,
   "metadata": {},
   "outputs": [],
   "source": [
    "import pandas as pd\n",
    "import numpy as np\n",
    "import matplotlib.pyplot as plt\n",
    "import os.path as osp\n",
    "import glob\n",
    "import os.path as osp\n",
    "from sklearn.metrics import roc_auc_score\n",
    "from sklearn.preprocessing import MinMaxScaler"
   ]
  },
  {
   "cell_type": "markdown",
   "metadata": {},
   "source": [
    "## Utils"
   ]
  },
  {
   "cell_type": "code",
   "execution_count": 10,
   "metadata": {},
   "outputs": [],
   "source": [
    "scaler = MinMaxScaler()\n",
    "\n",
    "def find_max_proba(prob_array):\n",
    "    return np.max(prob_array)"
   ]
  },
  {
   "cell_type": "code",
   "execution_count": 13,
   "metadata": {},
   "outputs": [],
   "source": [
    "import matplotlib.pyplot as plt\n",
    "import seaborn as sns\n",
    "\n",
    "\n",
    "def plot_density_2D(path=\"img.png\", dataframes=[], target_cols=[], cmaps=[], labels=[], title=\"\", alphas=[]):\n",
    "    plt.figure()  # Create a new figure for each plot\n",
    "    sns.set_theme(style=\"darkgrid\")\n",
    "    for i, df in enumerate(dataframes):\n",
    "        if len(df):\n",
    "            sns.kdeplot(x=df[target_cols[0]], y=df[target_cols[1]], cmap=cmaps[i], fill=True, bw_adjust=0.5, alpha=alphas[i])\n",
    "    # plt.legend()\n",
    "    plt.title(title)\n",
    "    plt.savefig(path)\n",
    "    # plt.show()\n",
    "    plt.close()"
   ]
  },
  {
   "cell_type": "markdown",
   "metadata": {},
   "source": [
    "## Code"
   ]
  },
  {
   "cell_type": "markdown",
   "metadata": {},
   "source": [
    "### Options"
   ]
  },
  {
   "cell_type": "code",
   "execution_count": 7,
   "metadata": {},
   "outputs": [],
   "source": [
    "all_models=[\"resnet18\", \"resnet34\", \"xception\"]\n",
    "all_datasets=['cifar10']\n",
    "all_optim = ['adam', 'sgd', 'rmsprobe', 'sparseadam']\n",
    "all_initialization = ['pretrain', 'kaiming_normal']\n",
    "all_lr_scheduler = ['reduceLR', 'none', 'cosine_annealingLR']\n",
    "all_noise_injection = [\"0.0\", \"0.03\", \"0.07\", \"0.13\"]\n",
    "all_noise_sparsity = [\"0.0\", \"0.2\", \"0.4\", \"0.6\"]\n",
    "all_lr_rate = ['0.001', '0.1']\n",
    "all_folds = ['0', '1', '2']\n",
    "all_phase = ['train', 'validation']\n",
    "all_epochs = 5\n",
    "device = 'cuda:0'"
   ]
  },
  {
   "cell_type": "markdown",
   "metadata": {},
   "source": [
    "### Calculate Metrics"
   ]
  },
  {
   "cell_type": "code",
   "execution_count": 15,
   "metadata": {},
   "outputs": [
    {
     "data": {
      "image/png": "[encoded data removed]",
      "text/plain": [
       "<Figure size 640x480 with 1 Axes>"
      ]
     },
     "metadata": {},
     "output_type": "display_data"
    }
   ],
   "source": [
    "root = osp.join(\"/home/vision/Repo/cleanset/logs\")\n",
    "\n",
    "iterations_log = None\n",
    "metrics_info = pd.DataFrame()\n",
    "for dataset_name in all_datasets:\n",
    "    metrics_info_path = f'/home/vision/Repo/cleanset/dataset/{dataset_name}/metrics/top_proba.csv'\n",
    "    dataset_info = pd.read_csv(f\"dataset/{dataset_name}/info.csv\")\n",
    "    dataset_info[dataset_info['phase'] == 'train']\n",
    "    for model_name in all_models:\n",
    "        for optim in all_optim:\n",
    "            for initialization in all_initialization:\n",
    "                for lr_scheduler in all_lr_scheduler:\n",
    "                    for noise_injection in all_noise_injection[1:]:\n",
    "                        for noise_sparsity in all_noise_sparsity:\n",
    "                            for lr_rate in all_lr_rate:\n",
    "                                for phase in all_phase:\n",
    "                                    samples_training_data = pd.DataFrame()\n",
    "                                    for epoch in range(1, all_epochs):\n",
    "                                        all_fold_loss = []\n",
    "                                        epoch = f\"{epoch :03d}\"\n",
    "                                        for fold in all_folds:\n",
    "                                            glob_regex = osp.join(root, dataset_name, model_name, optim, initialization, lr_scheduler, f\"np={noise_injection}\", f\"ns={noise_sparsity}\", f\"lr={lr_rate}\", fold, phase, epoch, '*.pd')\n",
    "                                            iterations_log = sorted(glob.glob(glob_regex))\n",
    "                                            if len(iterations_log) == 0:\n",
    "                                                continue\n",
    "                                            # print(\"iterations_log: \", iterations_log)\n",
    "                                            iterations_log = [pd.read_pickle(file_path) for file_path in iterations_log]\n",
    "                                            iterations_log = pd.concat(iterations_log, axis=0, ignore_index=True)\n",
    "\n",
    "                                            iterations_log = iterations_log.drop(columns=['loss'])\n",
    "                                            iterations_log['max proba'] = iterations_log['proba'].apply(lambda x: find_max_proba(x))\n",
    "                                            iterations_log = iterations_log.drop(columns=['proba'])\n",
    "\n",
    "                                            iterations_log['phase'] = phase\n",
    "                                            iterations_log['fold'] = fold\n",
    "                                            iterations_log['epoch'] = epoch\n",
    "                                            samples_training_data = samples_training_data._append(iterations_log)\n",
    "                                    if len(samples_training_data):\n",
    "                                        proba_stats = samples_training_data.groupby(['sample', 'label'])['max proba'].agg(['mean', 'std']).reset_index()\n",
    "                                        proba_stats['mean'] = scaler.fit_transform(proba_stats[['mean']])\n",
    "                                        proba_stats['std'] = scaler.fit_transform(proba_stats[['std']])\n",
    "                                        merged_df = pd.merge(proba_stats, dataset_info[['index', 'true_label']], left_on='sample', right_on='index', how='inner')\n",
    "\n",
    "                                        # auc calculation\n",
    "                                        mean_auc_score = roc_auc_score(y_true = merged_df['true_label'] == merged_df['label'], y_score = merged_df['mean'])\n",
    "                                        std_auc_score = roc_auc_score(y_true = merged_df['true_label'] == merged_df['label'], y_score = merged_df['std'])\n",
    "                                        new_row = {'model': model_name, 'optim': optim, 'initialization': initialization, 'lr scheduler': lr_scheduler, 'np': noise_injection, 'ns': noise_sparsity, 'lr rate': lr_rate, 'phase': phase, 'mean auc score ': mean_auc_score, 'std auc score ': std_auc_score}\n",
    "                                        metrics_info = metrics_info._append(new_row, ignore_index=True)\n",
    "                                        # end auc calculation\n",
    "\n",
    "\n",
    "                                        true_label_sample_proba_stats = merged_df[merged_df['label'] == merged_df['true_label']]\n",
    "                                        wrong_label_sample_proba_stats = merged_df[merged_df['label'] != merged_df['true_label']]\n",
    "                                        try:\n",
    "                                            plot_density_2D(\n",
    "                                                path=osp.join(root, dataset_name, model_name, optim, initialization, lr_scheduler, f\"np={noise_injection}\", f\"ns={noise_sparsity}\", f\"lr={lr_rate}\", f\"{phase}_max_proba.png\"),\n",
    "                                                dataframes=[true_label_sample_proba_stats, wrong_label_sample_proba_stats],\n",
    "                                                target_cols=['mean', 'std'], cmaps=['Greens', 'Reds'], alphas=[1, 0.5],\n",
    "                                                labels=['true labels', 'wrong labels'],\n",
    "                                                title=f\"Max Proba stats || {dataset_name} {model_name} {optim} {initialization} {lr_scheduler} {phase} | np={noise_injection} ns={noise_sparsity}\")\n",
    "                                        except:\n",
    "                                            pass\n",
    "    metrics_info.index.name = 'index'\n",
    "    metrics_info.to_csv(metrics_info_path)"
   ]
  }
 ],
 "metadata": {
  "kernelspec": {
   "display_name": "torch",
   "language": "python",
   "name": "python3"
  },
  "language_info": {
   "codemirror_mode": {
    "name": "ipython",
    "version": 3
   },
   "file_extension": ".py",
   "mimetype": "text/x-python",
   "name": "python",
   "nbconvert_exporter": "python",
   "pygments_lexer": "ipython3",
   "version": "3.10.12"
  },
  "orig_nbformat": 4
 },
 "nbformat": 4,
 "nbformat_minor": 2
}
