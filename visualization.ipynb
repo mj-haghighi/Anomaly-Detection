{
 "cells": [
  {
   "cell_type": "code",
   "execution_count": 2,
   "metadata": {},
   "outputs": [],
   "source": [
    "import pandas as pd\n",
    "import numpy as np\n",
    "import matplotlib.pyplot as plt"
   ]
  },
  {
   "cell_type": "code",
   "execution_count": 3,
   "metadata": {},
   "outputs": [],
   "source": [
    "df = pd.read_pickle(\"/home/mj-haghighi/Repo/cleanset/logs/cifar10/resnet18/sgd/2023-11-28 13:18:47.615742.pd\")"
   ]
  },
  {
   "cell_type": "code",
   "execution_count": 4,
   "metadata": {},
   "outputs": [
    {
     "data": {
      "text/html": [
       "<div>\n",
       "<style scoped>\n",
       "    .dataframe tbody tr th:only-of-type {\n",
       "        vertical-align: middle;\n",
       "    }\n",
       "\n",
       "    .dataframe tbody tr th {\n",
       "        vertical-align: top;\n",
       "    }\n",
       "\n",
       "    .dataframe thead th {\n",
       "        text-align: right;\n",
       "    }\n",
       "</style>\n",
       "<table border=\"1\" class=\"dataframe\">\n",
       "  <thead>\n",
       "    <tr style=\"text-align: right;\">\n",
       "      <th></th>\n",
       "      <th>model</th>\n",
       "      <th>optimizer</th>\n",
       "      <th>epoch</th>\n",
       "      <th>sample</th>\n",
       "      <th>label</th>\n",
       "      <th>true_label</th>\n",
       "      <th>phase</th>\n",
       "      <th>loss</th>\n",
       "      <th>proba</th>\n",
       "    </tr>\n",
       "  </thead>\n",
       "  <tbody>\n",
       "    <tr>\n",
       "      <th>0</th>\n",
       "      <td>resnet18</td>\n",
       "      <td>sgd</td>\n",
       "      <td>0</td>\n",
       "      <td>barking_frog_s_001012.png</td>\n",
       "      <td>2</td>\n",
       "      <td>None</td>\n",
       "      <td>train</td>\n",
       "      <td>2.311072</td>\n",
       "      <td>[0.010969766, 0.03751725, 0.17331284, 0.073715...</td>\n",
       "    </tr>\n",
       "    <tr>\n",
       "      <th>1</th>\n",
       "      <td>resnet18</td>\n",
       "      <td>sgd</td>\n",
       "      <td>0</td>\n",
       "      <td>mouser_s_001708.png</td>\n",
       "      <td>0</td>\n",
       "      <td>None</td>\n",
       "      <td>train</td>\n",
       "      <td>2.355938</td>\n",
       "      <td>[0.07300169, 0.075464286, 0.11995122, 0.047809...</td>\n",
       "    </tr>\n",
       "    <tr>\n",
       "      <th>2</th>\n",
       "      <td>resnet18</td>\n",
       "      <td>sgd</td>\n",
       "      <td>0</td>\n",
       "      <td>fighter_aircraft_s_000913.png</td>\n",
       "      <td>0</td>\n",
       "      <td>None</td>\n",
       "      <td>train</td>\n",
       "      <td>2.322864</td>\n",
       "      <td>[0.08146987, 0.047823958, 0.09003414, 0.141611...</td>\n",
       "    </tr>\n",
       "    <tr>\n",
       "      <th>3</th>\n",
       "      <td>resnet18</td>\n",
       "      <td>sgd</td>\n",
       "      <td>0</td>\n",
       "      <td>mule_deer_s_000892.png</td>\n",
       "      <td>1</td>\n",
       "      <td>None</td>\n",
       "      <td>train</td>\n",
       "      <td>2.383492</td>\n",
       "      <td>[0.01666984, 0.35913786, 0.1833379, 0.07345757...</td>\n",
       "    </tr>\n",
       "    <tr>\n",
       "      <th>4</th>\n",
       "      <td>resnet18</td>\n",
       "      <td>sgd</td>\n",
       "      <td>0</td>\n",
       "      <td>struthio_camelus_s_000790.png</td>\n",
       "      <td>0</td>\n",
       "      <td>None</td>\n",
       "      <td>train</td>\n",
       "      <td>2.342515</td>\n",
       "      <td>[0.12165012, 0.124624275, 0.060783252, 0.08284...</td>\n",
       "    </tr>\n",
       "  </tbody>\n",
       "</table>\n",
       "</div>"
      ],
      "text/plain": [
       "      model optimizer epoch                         sample label true_label  \\\n",
       "0  resnet18       sgd     0      barking_frog_s_001012.png     2       None   \n",
       "1  resnet18       sgd     0            mouser_s_001708.png     0       None   \n",
       "2  resnet18       sgd     0  fighter_aircraft_s_000913.png     0       None   \n",
       "3  resnet18       sgd     0         mule_deer_s_000892.png     1       None   \n",
       "4  resnet18       sgd     0  struthio_camelus_s_000790.png     0       None   \n",
       "\n",
       "   phase      loss                                              proba  \n",
       "0  train  2.311072  [0.010969766, 0.03751725, 0.17331284, 0.073715...  \n",
       "1  train  2.355938  [0.07300169, 0.075464286, 0.11995122, 0.047809...  \n",
       "2  train  2.322864  [0.08146987, 0.047823958, 0.09003414, 0.141611...  \n",
       "3  train  2.383492  [0.01666984, 0.35913786, 0.1833379, 0.07345757...  \n",
       "4  train  2.342515  [0.12165012, 0.124624275, 0.060783252, 0.08284...  "
      ]
     },
     "execution_count": 4,
     "metadata": {},
     "output_type": "execute_result"
    }
   ],
   "source": [
    "df.head()"
   ]
  },
  {
   "cell_type": "code",
   "execution_count": 5,
   "metadata": {},
   "outputs": [
    {
     "data": {
      "image/png": "[encoded data removed]",
      "text/plain": [
       "<Figure size 640x480 with 1 Axes>"
      ]
     },
     "metadata": {},
     "output_type": "display_data"
    }
   ],
   "source": [
    "# Group by 'epoch' and calculate the mean of 'loss' for each epoch\n",
    "mean_loss_per_epoch = df.groupby('epoch')['loss'].mean()\n",
    "\n",
    "# Plot the mean loss for each epoch\n",
    "plt.plot(mean_loss_per_epoch, marker='o')\n",
    "plt.title('Mean Loss per Epoch')\n",
    "plt.xlabel('Epoch')\n",
    "plt.ylabel('Mean Loss')\n",
    "plt.grid(True)\n",
    "plt.show()"
   ]
  }
 ],
 "metadata": {
  "kernelspec": {
   "display_name": "torch",
   "language": "python",
   "name": "python3"
  },
  "language_info": {
   "codemirror_mode": {
    "name": "ipython",
    "version": 3
   },
   "file_extension": ".py",
   "mimetype": "text/x-python",
   "name": "python",
   "nbconvert_exporter": "python",
   "pygments_lexer": "ipython3",
   "version": "3.10.12"
  },
  "orig_nbformat": 4
 },
 "nbformat": 4,
 "nbformat_minor": 2
}
